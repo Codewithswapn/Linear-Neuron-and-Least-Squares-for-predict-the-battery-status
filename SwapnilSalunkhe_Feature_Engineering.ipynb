{
 "cells": [
  {
   "cell_type": "markdown",
   "metadata": {},
   "source": [
    "Use data from \"battery_motor_log_example1 (no time specified).xls\" where we assume data are sampled with constant sampling (if sampling is not constant, you can not train a prediction model with constant prediction horizon, here one sample).\n",
    "\n",
    "Apply Linear Neuron and Least Squares direct weight calculation (the simplest one) to predict the batery status. For the beginning, try time embedding be 2 for all input variables to your neuron. Apply also data normalization before training, divide data to training data and testing data to validate how your model works for batery status prediction"
   ]
  },
  {
   "cell_type": "code",
   "execution_count": 35,
   "metadata": {
    "id": "cl0Uj6KT97l8"
   },
   "outputs": [],
   "source": [
    "import pandas as pd\n",
    "import numpy as np\n",
    "import sklearn\n",
    "import matplotlib.pyplot as plt"
   ]
  },
  {
   "cell_type": "markdown",
   "metadata": {
    "id": "bKAwPaFK-yWc"
   },
   "source": [
    "### **Load Dataset**"
   ]
  },
  {
   "cell_type": "code",
   "execution_count": 36,
   "metadata": {
    "colab": {
     "base_uri": "https://localhost:8080/",
     "height": 204
    },
    "id": "ORauC57N2qOF",
    "outputId": "42d70b97-3f8e-41a6-b188-21aa89c3a964",
    "scrolled": false
   },
   "outputs": [
    {
     "data": {
      "text/html": [
       "<div>\n",
       "<style scoped>\n",
       "    .dataframe tbody tr th:only-of-type {\n",
       "        vertical-align: middle;\n",
       "    }\n",
       "\n",
       "    .dataframe tbody tr th {\n",
       "        vertical-align: top;\n",
       "    }\n",
       "\n",
       "    .dataframe thead th {\n",
       "        text-align: right;\n",
       "    }\n",
       "</style>\n",
       "<table border=\"1\" class=\"dataframe\">\n",
       "  <thead>\n",
       "    <tr style=\"text-align: right;\">\n",
       "      <th></th>\n",
       "      <th>sample index</th>\n",
       "      <th>Battery voltage (V)</th>\n",
       "      <th>Motor1 PWM</th>\n",
       "      <th>Motor2 PWM</th>\n",
       "      <th>Motor3 PWM</th>\n",
       "      <th>Motor4 PWM</th>\n",
       "    </tr>\n",
       "  </thead>\n",
       "  <tbody>\n",
       "    <tr>\n",
       "      <th>0</th>\n",
       "      <td>0.0</td>\n",
       "      <td>3.689736</td>\n",
       "      <td>0.0</td>\n",
       "      <td>0.0</td>\n",
       "      <td>0.0</td>\n",
       "      <td>0.0</td>\n",
       "    </tr>\n",
       "    <tr>\n",
       "      <th>1</th>\n",
       "      <td>1.0</td>\n",
       "      <td>3.689736</td>\n",
       "      <td>0.0</td>\n",
       "      <td>0.0</td>\n",
       "      <td>0.0</td>\n",
       "      <td>0.0</td>\n",
       "    </tr>\n",
       "    <tr>\n",
       "      <th>2</th>\n",
       "      <td>2.0</td>\n",
       "      <td>3.689736</td>\n",
       "      <td>0.0</td>\n",
       "      <td>0.0</td>\n",
       "      <td>0.0</td>\n",
       "      <td>0.0</td>\n",
       "    </tr>\n",
       "    <tr>\n",
       "      <th>3</th>\n",
       "      <td>3.0</td>\n",
       "      <td>3.689736</td>\n",
       "      <td>0.0</td>\n",
       "      <td>0.0</td>\n",
       "      <td>0.0</td>\n",
       "      <td>0.0</td>\n",
       "    </tr>\n",
       "    <tr>\n",
       "      <th>4</th>\n",
       "      <td>4.0</td>\n",
       "      <td>3.689736</td>\n",
       "      <td>0.0</td>\n",
       "      <td>0.0</td>\n",
       "      <td>0.0</td>\n",
       "      <td>0.0</td>\n",
       "    </tr>\n",
       "    <tr>\n",
       "      <th>5</th>\n",
       "      <td>5.0</td>\n",
       "      <td>3.336071</td>\n",
       "      <td>0.0</td>\n",
       "      <td>0.0</td>\n",
       "      <td>0.0</td>\n",
       "      <td>0.0</td>\n",
       "    </tr>\n",
       "    <tr>\n",
       "      <th>6</th>\n",
       "      <td>6.0</td>\n",
       "      <td>3.299120</td>\n",
       "      <td>51414.0</td>\n",
       "      <td>56774.0</td>\n",
       "      <td>26770.0</td>\n",
       "      <td>30156.0</td>\n",
       "    </tr>\n",
       "    <tr>\n",
       "      <th>7</th>\n",
       "      <td>7.0</td>\n",
       "      <td>3.214663</td>\n",
       "      <td>51665.0</td>\n",
       "      <td>59398.0</td>\n",
       "      <td>38657.0</td>\n",
       "      <td>33796.0</td>\n",
       "    </tr>\n",
       "    <tr>\n",
       "      <th>8</th>\n",
       "      <td>8.0</td>\n",
       "      <td>3.167156</td>\n",
       "      <td>56375.0</td>\n",
       "      <td>62603.0</td>\n",
       "      <td>46516.0</td>\n",
       "      <td>38837.0</td>\n",
       "    </tr>\n",
       "    <tr>\n",
       "      <th>9</th>\n",
       "      <td>9.0</td>\n",
       "      <td>3.130205</td>\n",
       "      <td>58757.0</td>\n",
       "      <td>64114.0</td>\n",
       "      <td>52341.0</td>\n",
       "      <td>42863.0</td>\n",
       "    </tr>\n",
       "  </tbody>\n",
       "</table>\n",
       "</div>"
      ],
      "text/plain": [
       "   sample index  Battery voltage (V)  Motor1 PWM  Motor2 PWM  Motor3 PWM  \\\n",
       "0           0.0             3.689736         0.0         0.0         0.0   \n",
       "1           1.0             3.689736         0.0         0.0         0.0   \n",
       "2           2.0             3.689736         0.0         0.0         0.0   \n",
       "3           3.0             3.689736         0.0         0.0         0.0   \n",
       "4           4.0             3.689736         0.0         0.0         0.0   \n",
       "5           5.0             3.336071         0.0         0.0         0.0   \n",
       "6           6.0             3.299120     51414.0     56774.0     26770.0   \n",
       "7           7.0             3.214663     51665.0     59398.0     38657.0   \n",
       "8           8.0             3.167156     56375.0     62603.0     46516.0   \n",
       "9           9.0             3.130205     58757.0     64114.0     52341.0   \n",
       "\n",
       "   Motor4 PWM  \n",
       "0         0.0  \n",
       "1         0.0  \n",
       "2         0.0  \n",
       "3         0.0  \n",
       "4         0.0  \n",
       "5         0.0  \n",
       "6     30156.0  \n",
       "7     33796.0  \n",
       "8     38837.0  \n",
       "9     42863.0  "
      ]
     },
     "execution_count": 36,
     "metadata": {},
     "output_type": "execute_result"
    }
   ],
   "source": [
    "data = pd.read_csv('battery_motor_log_example1 (no time specified).csv')\n",
    "data.head(10)"
   ]
  },
  {
   "cell_type": "markdown",
   "metadata": {
    "id": "3cTTxHyd_Kyz"
   },
   "source": [
    "### **Understand the Properties of the Data**"
   ]
  },
  {
   "cell_type": "code",
   "execution_count": 37,
   "metadata": {
    "colab": {
     "base_uri": "https://localhost:8080/"
    },
    "id": "kY95tWqK_W9C",
    "outputId": "6584b9dc-c24b-4013-f6d0-227bc7884c8f"
   },
   "outputs": [
    {
     "data": {
      "text/plain": [
       "(423, 6)"
      ]
     },
     "execution_count": 37,
     "metadata": {},
     "output_type": "execute_result"
    }
   ],
   "source": [
    "data.shape"
   ]
  },
  {
   "cell_type": "markdown",
   "metadata": {
    "id": "iiVoBIRM_Z8C"
   },
   "source": [
    " - Here we can see that there are 423 columns and 6 rows in the dataset.\n",
    " - We have to look now if there are any null values in the dataset."
   ]
  },
  {
   "cell_type": "code",
   "execution_count": 38,
   "metadata": {
    "colab": {
     "base_uri": "https://localhost:8080/"
    },
    "id": "LbypCkW725ML",
    "outputId": "287a57fd-6925-4346-cdf6-f59574d6c7a0"
   },
   "outputs": [
    {
     "name": "stdout",
     "output_type": "stream",
     "text": [
      "<class 'pandas.core.frame.DataFrame'>\n",
      "RangeIndex: 423 entries, 0 to 422\n",
      "Data columns (total 6 columns):\n",
      " #   Column               Non-Null Count  Dtype  \n",
      "---  ------               --------------  -----  \n",
      " 0   sample index         45 non-null     float64\n",
      " 1   Battery voltage (V)  267 non-null    float64\n",
      " 2   Motor1 PWM           267 non-null    float64\n",
      " 3   Motor2 PWM           267 non-null    float64\n",
      " 4   Motor3 PWM           267 non-null    float64\n",
      " 5   Motor4 PWM           267 non-null    float64\n",
      "dtypes: float64(6)\n",
      "memory usage: 20.0 KB\n"
     ]
    }
   ],
   "source": [
    "data.info()"
   ]
  },
  {
   "cell_type": "markdown",
   "metadata": {
    "id": "6-9ebmMZAGvX"
   },
   "source": [
    "- The data.info( ) method has returned the number of non-null values in each column.\n",
    "- The columns Motor PWM 1-4 and Battery Voltage has 267 non null values where the coloumn sample index has only 45 non null values.\n",
    "- The column sample index can be omited as since the feature is not of any importance for the data."
   ]
  },
  {
   "cell_type": "code",
   "execution_count": 39,
   "metadata": {
    "colab": {
     "base_uri": "https://localhost:8080/",
     "height": 297
    },
    "id": "n-ctVc6b3qmB",
    "outputId": "2c5ffea3-717c-47d0-9769-d9f69f5f7ebb"
   },
   "outputs": [
    {
     "data": {
      "text/html": [
       "<div>\n",
       "<style scoped>\n",
       "    .dataframe tbody tr th:only-of-type {\n",
       "        vertical-align: middle;\n",
       "    }\n",
       "\n",
       "    .dataframe tbody tr th {\n",
       "        vertical-align: top;\n",
       "    }\n",
       "\n",
       "    .dataframe thead th {\n",
       "        text-align: right;\n",
       "    }\n",
       "</style>\n",
       "<table border=\"1\" class=\"dataframe\">\n",
       "  <thead>\n",
       "    <tr style=\"text-align: right;\">\n",
       "      <th></th>\n",
       "      <th>sample index</th>\n",
       "      <th>Battery voltage (V)</th>\n",
       "      <th>Motor1 PWM</th>\n",
       "      <th>Motor2 PWM</th>\n",
       "      <th>Motor3 PWM</th>\n",
       "      <th>Motor4 PWM</th>\n",
       "    </tr>\n",
       "  </thead>\n",
       "  <tbody>\n",
       "    <tr>\n",
       "      <th>count</th>\n",
       "      <td>45.000000</td>\n",
       "      <td>267.000000</td>\n",
       "      <td>267.000000</td>\n",
       "      <td>267.000000</td>\n",
       "      <td>267.000000</td>\n",
       "      <td>267.000000</td>\n",
       "    </tr>\n",
       "    <tr>\n",
       "      <th>mean</th>\n",
       "      <td>22.000000</td>\n",
       "      <td>3.499984</td>\n",
       "      <td>39278.940075</td>\n",
       "      <td>42347.483146</td>\n",
       "      <td>37755.614232</td>\n",
       "      <td>38198.400749</td>\n",
       "    </tr>\n",
       "    <tr>\n",
       "      <th>std</th>\n",
       "      <td>13.133926</td>\n",
       "      <td>0.255093</td>\n",
       "      <td>15846.805211</td>\n",
       "      <td>16991.898930</td>\n",
       "      <td>15420.403301</td>\n",
       "      <td>19093.128435</td>\n",
       "    </tr>\n",
       "    <tr>\n",
       "      <th>min</th>\n",
       "      <td>0.000000</td>\n",
       "      <td>2.644575</td>\n",
       "      <td>0.000000</td>\n",
       "      <td>0.000000</td>\n",
       "      <td>0.000000</td>\n",
       "      <td>0.000000</td>\n",
       "    </tr>\n",
       "    <tr>\n",
       "      <th>25%</th>\n",
       "      <td>11.000000</td>\n",
       "      <td>3.473314</td>\n",
       "      <td>40200.500000</td>\n",
       "      <td>44708.500000</td>\n",
       "      <td>37949.000000</td>\n",
       "      <td>41365.500000</td>\n",
       "    </tr>\n",
       "    <tr>\n",
       "      <th>50%</th>\n",
       "      <td>22.000000</td>\n",
       "      <td>3.536657</td>\n",
       "      <td>42222.000000</td>\n",
       "      <td>46892.000000</td>\n",
       "      <td>40657.000000</td>\n",
       "      <td>46781.000000</td>\n",
       "    </tr>\n",
       "    <tr>\n",
       "      <th>75%</th>\n",
       "      <td>33.000000</td>\n",
       "      <td>3.605279</td>\n",
       "      <td>43909.500000</td>\n",
       "      <td>48133.500000</td>\n",
       "      <td>42455.000000</td>\n",
       "      <td>48035.000000</td>\n",
       "    </tr>\n",
       "    <tr>\n",
       "      <th>max</th>\n",
       "      <td>44.000000</td>\n",
       "      <td>4.022288</td>\n",
       "      <td>65535.000000</td>\n",
       "      <td>65535.000000</td>\n",
       "      <td>64132.000000</td>\n",
       "      <td>63196.000000</td>\n",
       "    </tr>\n",
       "  </tbody>\n",
       "</table>\n",
       "</div>"
      ],
      "text/plain": [
       "       sample index  Battery voltage (V)    Motor1 PWM    Motor2 PWM  \\\n",
       "count     45.000000           267.000000    267.000000    267.000000   \n",
       "mean      22.000000             3.499984  39278.940075  42347.483146   \n",
       "std       13.133926             0.255093  15846.805211  16991.898930   \n",
       "min        0.000000             2.644575      0.000000      0.000000   \n",
       "25%       11.000000             3.473314  40200.500000  44708.500000   \n",
       "50%       22.000000             3.536657  42222.000000  46892.000000   \n",
       "75%       33.000000             3.605279  43909.500000  48133.500000   \n",
       "max       44.000000             4.022288  65535.000000  65535.000000   \n",
       "\n",
       "         Motor3 PWM    Motor4 PWM  \n",
       "count    267.000000    267.000000  \n",
       "mean   37755.614232  38198.400749  \n",
       "std    15420.403301  19093.128435  \n",
       "min        0.000000      0.000000  \n",
       "25%    37949.000000  41365.500000  \n",
       "50%    40657.000000  46781.000000  \n",
       "75%    42455.000000  48035.000000  \n",
       "max    64132.000000  63196.000000  "
      ]
     },
     "execution_count": 39,
     "metadata": {},
     "output_type": "execute_result"
    }
   ],
   "source": [
    "data.describe()"
   ]
  },
  {
   "cell_type": "markdown",
   "metadata": {
    "id": "poXslLmXARMg"
   },
   "source": [
    "### **Data Cleaning**"
   ]
  },
  {
   "cell_type": "markdown",
   "metadata": {
    "id": "bnVstjU8AhFg"
   },
   "source": [
    "**Check whether any row has all the columns null values. If so, drop those rows.**"
   ]
  },
  {
   "cell_type": "code",
   "execution_count": 40,
   "metadata": {
    "colab": {
     "base_uri": "https://localhost:8080/"
    },
    "id": "Drg3jiUg4HBp",
    "outputId": "bf8ac0a5-d50b-4df2-8057-486b29294b28",
    "scrolled": true
   },
   "outputs": [
    {
     "name": "stdout",
     "output_type": "stream",
     "text": [
      "Number of null rows: sample index           378\n",
      "Battery voltage (V)    156\n",
      "Motor1 PWM             156\n",
      "Motor2 PWM             156\n",
      "Motor3 PWM             156\n",
      "Motor4 PWM             156\n",
      "dtype: int64\n"
     ]
    }
   ],
   "source": [
    "all_rows = data.iloc[0:]\n",
    "null_values_count_in_all_rows = all_rows.isnull().sum()\n",
    "print(\"Number of null rows:\", null_values_count_in_all_rows)"
   ]
  },
  {
   "cell_type": "markdown",
   "metadata": {
    "id": "gJOJvNHVBZOc"
   },
   "source": [
    "- **Create a copy of the dataset and drop those 156 rows, which has all coloumns null.**"
   ]
  },
  {
   "cell_type": "code",
   "execution_count": 41,
   "metadata": {
    "id": "XCjdp1306iW-"
   },
   "outputs": [],
   "source": [
    "df_copy = data.copy()"
   ]
  },
  {
   "cell_type": "code",
   "execution_count": 42,
   "metadata": {
    "id": "zjbKFx4869i-"
   },
   "outputs": [],
   "source": [
    "df_cleaned = df_copy.dropna(how='all')"
   ]
  },
  {
   "cell_type": "code",
   "execution_count": 43,
   "metadata": {
    "colab": {
     "base_uri": "https://localhost:8080/"
    },
    "id": "-miKB1r37JP9",
    "outputId": "a4dd239b-8804-45aa-93f9-04ad592c088b"
   },
   "outputs": [
    {
     "name": "stdout",
     "output_type": "stream",
     "text": [
      "<class 'pandas.core.frame.DataFrame'>\n",
      "Int64Index: 267 entries, 0 to 422\n",
      "Data columns (total 6 columns):\n",
      " #   Column               Non-Null Count  Dtype  \n",
      "---  ------               --------------  -----  \n",
      " 0   sample index         45 non-null     float64\n",
      " 1   Battery voltage (V)  267 non-null    float64\n",
      " 2   Motor1 PWM           267 non-null    float64\n",
      " 3   Motor2 PWM           267 non-null    float64\n",
      " 4   Motor3 PWM           267 non-null    float64\n",
      " 5   Motor4 PWM           267 non-null    float64\n",
      "dtypes: float64(6)\n",
      "memory usage: 14.6 KB\n"
     ]
    }
   ],
   "source": [
    "df_cleaned.info()"
   ]
  },
  {
   "cell_type": "code",
   "execution_count": 44,
   "metadata": {
    "colab": {
     "base_uri": "https://localhost:8080/"
    },
    "id": "INtv62xs8tea",
    "outputId": "4f02a956-c0fb-4825-d89b-4cd3c4f46195"
   },
   "outputs": [
    {
     "name": "stdout",
     "output_type": "stream",
     "text": [
      "Number of null row: sample index           222\n",
      "Battery voltage (V)      0\n",
      "Motor1 PWM               0\n",
      "Motor2 PWM               0\n",
      "Motor3 PWM               0\n",
      "Motor4 PWM               0\n",
      "dtype: int64\n"
     ]
    }
   ],
   "source": [
    "first_row = df_cleaned.iloc[0:]\n",
    "null_values_count_in_all_rows = first_row.isnull().sum()\n",
    "print(\"Number of null row:\", null_values_count_in_all_rows)"
   ]
  },
  {
   "cell_type": "markdown",
   "metadata": {
    "id": "2PrfNC8bCaQg"
   },
   "source": [
    "- Now it can be seen that except the column sample index, all other columns do not have null values.\n",
    "- The column sample index can be dropped as it does not hold any feature importance for the learning algorithm."
   ]
  },
  {
   "cell_type": "code",
   "execution_count": 45,
   "metadata": {
    "id": "7tsOARtqC-bu"
   },
   "outputs": [],
   "source": [
    "df_cleaned = df_cleaned.drop(['sample index'], axis=1)"
   ]
  },
  {
   "cell_type": "code",
   "execution_count": 46,
   "metadata": {
    "colab": {
     "base_uri": "https://localhost:8080/"
    },
    "id": "c-Y6Pa868325",
    "outputId": "4e3726c8-fb59-47b9-c0de-c87d18fcb6ef"
   },
   "outputs": [
    {
     "data": {
      "text/plain": [
       "(267, 5)"
      ]
     },
     "execution_count": 46,
     "metadata": {},
     "output_type": "execute_result"
    }
   ],
   "source": [
    "df_cleaned.shape"
   ]
  },
  {
   "cell_type": "code",
   "execution_count": 47,
   "metadata": {
    "colab": {
     "base_uri": "https://localhost:8080/"
    },
    "id": "Cr1RzKMt9cBC",
    "outputId": "3e0174d6-efb1-4d00-b6be-5e0cf126debb"
   },
   "outputs": [
    {
     "data": {
      "text/plain": [
       "Battery voltage (V)    False\n",
       "Motor1 PWM             False\n",
       "Motor2 PWM             False\n",
       "Motor3 PWM             False\n",
       "Motor4 PWM             False\n",
       "dtype: bool"
      ]
     },
     "execution_count": 47,
     "metadata": {},
     "output_type": "execute_result"
    }
   ],
   "source": [
    "df_cleaned.isnull().any()"
   ]
  },
  {
   "cell_type": "markdown",
   "metadata": {
    "id": "UESeQBmRDZUf"
   },
   "source": [
    "- Now it can bee seen that there are no null values in any of the columns.  \n",
    "- The data can be now normalised to feed into the learning model."
   ]
  },
  {
   "cell_type": "markdown",
   "metadata": {
    "id": "OVLS5ep-Inx6"
   },
   "source": [
    "### **Data Normalization**"
   ]
  },
  {
   "cell_type": "code",
   "execution_count": 48,
   "metadata": {
    "colab": {
     "base_uri": "https://localhost:8080/",
     "height": 204
    },
    "id": "7_18PYYq99Dy",
    "outputId": "1e44249d-a0d3-4047-d263-ffe0f9d9fa51"
   },
   "outputs": [
    {
     "data": {
      "text/html": [
       "<div>\n",
       "<style scoped>\n",
       "    .dataframe tbody tr th:only-of-type {\n",
       "        vertical-align: middle;\n",
       "    }\n",
       "\n",
       "    .dataframe tbody tr th {\n",
       "        vertical-align: top;\n",
       "    }\n",
       "\n",
       "    .dataframe thead th {\n",
       "        text-align: right;\n",
       "    }\n",
       "</style>\n",
       "<table border=\"1\" class=\"dataframe\">\n",
       "  <thead>\n",
       "    <tr style=\"text-align: right;\">\n",
       "      <th></th>\n",
       "      <th>Battery voltage (V)</th>\n",
       "      <th>Motor1 PWM</th>\n",
       "      <th>Motor2 PWM</th>\n",
       "      <th>Motor3 PWM</th>\n",
       "      <th>Motor4 PWM</th>\n",
       "    </tr>\n",
       "  </thead>\n",
       "  <tbody>\n",
       "    <tr>\n",
       "      <th>0</th>\n",
       "      <td>0.75862</td>\n",
       "      <td>0.0</td>\n",
       "      <td>0.0</td>\n",
       "      <td>0.0</td>\n",
       "      <td>0.0</td>\n",
       "    </tr>\n",
       "    <tr>\n",
       "      <th>1</th>\n",
       "      <td>0.75862</td>\n",
       "      <td>0.0</td>\n",
       "      <td>0.0</td>\n",
       "      <td>0.0</td>\n",
       "      <td>0.0</td>\n",
       "    </tr>\n",
       "    <tr>\n",
       "      <th>2</th>\n",
       "      <td>0.75862</td>\n",
       "      <td>0.0</td>\n",
       "      <td>0.0</td>\n",
       "      <td>0.0</td>\n",
       "      <td>0.0</td>\n",
       "    </tr>\n",
       "    <tr>\n",
       "      <th>3</th>\n",
       "      <td>0.75862</td>\n",
       "      <td>0.0</td>\n",
       "      <td>0.0</td>\n",
       "      <td>0.0</td>\n",
       "      <td>0.0</td>\n",
       "    </tr>\n",
       "    <tr>\n",
       "      <th>4</th>\n",
       "      <td>0.75862</td>\n",
       "      <td>0.0</td>\n",
       "      <td>0.0</td>\n",
       "      <td>0.0</td>\n",
       "      <td>0.0</td>\n",
       "    </tr>\n",
       "  </tbody>\n",
       "</table>\n",
       "</div>"
      ],
      "text/plain": [
       "   Battery voltage (V)  Motor1 PWM  Motor2 PWM  Motor3 PWM  Motor4 PWM\n",
       "0              0.75862         0.0         0.0         0.0         0.0\n",
       "1              0.75862         0.0         0.0         0.0         0.0\n",
       "2              0.75862         0.0         0.0         0.0         0.0\n",
       "3              0.75862         0.0         0.0         0.0         0.0\n",
       "4              0.75862         0.0         0.0         0.0         0.0"
      ]
     },
     "execution_count": 48,
     "metadata": {},
     "output_type": "execute_result"
    }
   ],
   "source": [
    "from sklearn.preprocessing import MinMaxScaler\n",
    "scaler = MinMaxScaler()\n",
    "numeric_columns = df_cleaned.select_dtypes(include=[float, int])\n",
    "df_cleaned[numeric_columns.columns] = scaler.fit_transform(numeric_columns)\n",
    "df_cleaned.head()"
   ]
  },
  {
   "cell_type": "markdown",
   "metadata": {
    "id": "lErlnOXiI76l"
   },
   "source": [
    "### **Time Embedding**"
   ]
  },
  {
   "cell_type": "code",
   "execution_count": 49,
   "metadata": {
    "id": "N1ONx_FO-HJ0"
   },
   "outputs": [],
   "source": [
    "time_embedding = 2  # Assuming a time embedding of 2\n",
    "for column in df_cleaned.columns[:]:\n",
    "    for t in range(1, time_embedding + 1):\n",
    "        df_cleaned[f'{column}_lag_{t}'] = df_cleaned[column].shift(t)"
   ]
  },
  {
   "cell_type": "code",
   "execution_count": 50,
   "metadata": {
    "colab": {
     "base_uri": "https://localhost:8080/",
     "height": 258
    },
    "id": "pcY0TgcBBxak",
    "outputId": "9152068a-1e0e-4bde-ac71-8a28813be0ec"
   },
   "outputs": [
    {
     "data": {
      "text/html": [
       "<div>\n",
       "<style scoped>\n",
       "    .dataframe tbody tr th:only-of-type {\n",
       "        vertical-align: middle;\n",
       "    }\n",
       "\n",
       "    .dataframe tbody tr th {\n",
       "        vertical-align: top;\n",
       "    }\n",
       "\n",
       "    .dataframe thead th {\n",
       "        text-align: right;\n",
       "    }\n",
       "</style>\n",
       "<table border=\"1\" class=\"dataframe\">\n",
       "  <thead>\n",
       "    <tr style=\"text-align: right;\">\n",
       "      <th></th>\n",
       "      <th>Battery voltage (V)</th>\n",
       "      <th>Motor1 PWM</th>\n",
       "      <th>Motor2 PWM</th>\n",
       "      <th>Motor3 PWM</th>\n",
       "      <th>Motor4 PWM</th>\n",
       "      <th>Battery voltage (V)_lag_1</th>\n",
       "      <th>Battery voltage (V)_lag_2</th>\n",
       "      <th>Motor1 PWM_lag_1</th>\n",
       "      <th>Motor1 PWM_lag_2</th>\n",
       "      <th>Motor2 PWM_lag_1</th>\n",
       "      <th>Motor2 PWM_lag_2</th>\n",
       "      <th>Motor3 PWM_lag_1</th>\n",
       "      <th>Motor3 PWM_lag_2</th>\n",
       "      <th>Motor4 PWM_lag_1</th>\n",
       "      <th>Motor4 PWM_lag_2</th>\n",
       "    </tr>\n",
       "  </thead>\n",
       "  <tbody>\n",
       "    <tr>\n",
       "      <th>0</th>\n",
       "      <td>0.75862</td>\n",
       "      <td>0.0</td>\n",
       "      <td>0.0</td>\n",
       "      <td>0.0</td>\n",
       "      <td>0.0</td>\n",
       "      <td>NaN</td>\n",
       "      <td>NaN</td>\n",
       "      <td>NaN</td>\n",
       "      <td>NaN</td>\n",
       "      <td>NaN</td>\n",
       "      <td>NaN</td>\n",
       "      <td>NaN</td>\n",
       "      <td>NaN</td>\n",
       "      <td>NaN</td>\n",
       "      <td>NaN</td>\n",
       "    </tr>\n",
       "    <tr>\n",
       "      <th>1</th>\n",
       "      <td>0.75862</td>\n",
       "      <td>0.0</td>\n",
       "      <td>0.0</td>\n",
       "      <td>0.0</td>\n",
       "      <td>0.0</td>\n",
       "      <td>0.75862</td>\n",
       "      <td>NaN</td>\n",
       "      <td>0.0</td>\n",
       "      <td>NaN</td>\n",
       "      <td>0.0</td>\n",
       "      <td>NaN</td>\n",
       "      <td>0.0</td>\n",
       "      <td>NaN</td>\n",
       "      <td>0.0</td>\n",
       "      <td>NaN</td>\n",
       "    </tr>\n",
       "    <tr>\n",
       "      <th>2</th>\n",
       "      <td>0.75862</td>\n",
       "      <td>0.0</td>\n",
       "      <td>0.0</td>\n",
       "      <td>0.0</td>\n",
       "      <td>0.0</td>\n",
       "      <td>0.75862</td>\n",
       "      <td>0.75862</td>\n",
       "      <td>0.0</td>\n",
       "      <td>0.0</td>\n",
       "      <td>0.0</td>\n",
       "      <td>0.0</td>\n",
       "      <td>0.0</td>\n",
       "      <td>0.0</td>\n",
       "      <td>0.0</td>\n",
       "      <td>0.0</td>\n",
       "    </tr>\n",
       "    <tr>\n",
       "      <th>3</th>\n",
       "      <td>0.75862</td>\n",
       "      <td>0.0</td>\n",
       "      <td>0.0</td>\n",
       "      <td>0.0</td>\n",
       "      <td>0.0</td>\n",
       "      <td>0.75862</td>\n",
       "      <td>0.75862</td>\n",
       "      <td>0.0</td>\n",
       "      <td>0.0</td>\n",
       "      <td>0.0</td>\n",
       "      <td>0.0</td>\n",
       "      <td>0.0</td>\n",
       "      <td>0.0</td>\n",
       "      <td>0.0</td>\n",
       "      <td>0.0</td>\n",
       "    </tr>\n",
       "    <tr>\n",
       "      <th>4</th>\n",
       "      <td>0.75862</td>\n",
       "      <td>0.0</td>\n",
       "      <td>0.0</td>\n",
       "      <td>0.0</td>\n",
       "      <td>0.0</td>\n",
       "      <td>0.75862</td>\n",
       "      <td>0.75862</td>\n",
       "      <td>0.0</td>\n",
       "      <td>0.0</td>\n",
       "      <td>0.0</td>\n",
       "      <td>0.0</td>\n",
       "      <td>0.0</td>\n",
       "      <td>0.0</td>\n",
       "      <td>0.0</td>\n",
       "      <td>0.0</td>\n",
       "    </tr>\n",
       "  </tbody>\n",
       "</table>\n",
       "</div>"
      ],
      "text/plain": [
       "   Battery voltage (V)  Motor1 PWM  Motor2 PWM  Motor3 PWM  Motor4 PWM  \\\n",
       "0              0.75862         0.0         0.0         0.0         0.0   \n",
       "1              0.75862         0.0         0.0         0.0         0.0   \n",
       "2              0.75862         0.0         0.0         0.0         0.0   \n",
       "3              0.75862         0.0         0.0         0.0         0.0   \n",
       "4              0.75862         0.0         0.0         0.0         0.0   \n",
       "\n",
       "   Battery voltage (V)_lag_1  Battery voltage (V)_lag_2  Motor1 PWM_lag_1  \\\n",
       "0                        NaN                        NaN               NaN   \n",
       "1                    0.75862                        NaN               0.0   \n",
       "2                    0.75862                    0.75862               0.0   \n",
       "3                    0.75862                    0.75862               0.0   \n",
       "4                    0.75862                    0.75862               0.0   \n",
       "\n",
       "   Motor1 PWM_lag_2  Motor2 PWM_lag_1  Motor2 PWM_lag_2  Motor3 PWM_lag_1  \\\n",
       "0               NaN               NaN               NaN               NaN   \n",
       "1               NaN               0.0               NaN               0.0   \n",
       "2               0.0               0.0               0.0               0.0   \n",
       "3               0.0               0.0               0.0               0.0   \n",
       "4               0.0               0.0               0.0               0.0   \n",
       "\n",
       "   Motor3 PWM_lag_2  Motor4 PWM_lag_1  Motor4 PWM_lag_2  \n",
       "0               NaN               NaN               NaN  \n",
       "1               NaN               0.0               NaN  \n",
       "2               0.0               0.0               0.0  \n",
       "3               0.0               0.0               0.0  \n",
       "4               0.0               0.0               0.0  "
      ]
     },
     "execution_count": 50,
     "metadata": {},
     "output_type": "execute_result"
    }
   ],
   "source": [
    "df_cleaned.head()"
   ]
  },
  {
   "cell_type": "markdown",
   "metadata": {
    "id": "v-p62nMGGOPn"
   },
   "source": [
    "- Drop the lag 1, 2 coloumns for battery voltage, since battery voltage is our target coloumn.\n",
    "- Also drop the first two rows as it contains null values."
   ]
  },
  {
   "cell_type": "code",
   "execution_count": 51,
   "metadata": {
    "id": "gYGY9_MJyzrf"
   },
   "outputs": [],
   "source": [
    "df_cleaned = df_cleaned.drop(['Battery voltage (V)_lag_1', 'Battery voltage (V)_lag_2'], axis=1)"
   ]
  },
  {
   "cell_type": "code",
   "execution_count": 52,
   "metadata": {
    "id": "1Ge9U8Z353Ct"
   },
   "outputs": [],
   "source": [
    "df_cleaned = df_cleaned.iloc[2:]"
   ]
  },
  {
   "cell_type": "code",
   "execution_count": 53,
   "metadata": {
    "colab": {
     "base_uri": "https://localhost:8080/",
     "height": 258
    },
    "id": "gn1eI_iEzRLd",
    "outputId": "14e9aca8-81b8-4a06-948d-6e2fb2bedf2f"
   },
   "outputs": [
    {
     "data": {
      "text/html": [
       "<div>\n",
       "<style scoped>\n",
       "    .dataframe tbody tr th:only-of-type {\n",
       "        vertical-align: middle;\n",
       "    }\n",
       "\n",
       "    .dataframe tbody tr th {\n",
       "        vertical-align: top;\n",
       "    }\n",
       "\n",
       "    .dataframe thead th {\n",
       "        text-align: right;\n",
       "    }\n",
       "</style>\n",
       "<table border=\"1\" class=\"dataframe\">\n",
       "  <thead>\n",
       "    <tr style=\"text-align: right;\">\n",
       "      <th></th>\n",
       "      <th>Battery voltage (V)</th>\n",
       "      <th>Motor1 PWM</th>\n",
       "      <th>Motor2 PWM</th>\n",
       "      <th>Motor3 PWM</th>\n",
       "      <th>Motor4 PWM</th>\n",
       "      <th>Motor1 PWM_lag_1</th>\n",
       "      <th>Motor1 PWM_lag_2</th>\n",
       "      <th>Motor2 PWM_lag_1</th>\n",
       "      <th>Motor2 PWM_lag_2</th>\n",
       "      <th>Motor3 PWM_lag_1</th>\n",
       "      <th>Motor3 PWM_lag_2</th>\n",
       "      <th>Motor4 PWM_lag_1</th>\n",
       "      <th>Motor4 PWM_lag_2</th>\n",
       "    </tr>\n",
       "  </thead>\n",
       "  <tbody>\n",
       "    <tr>\n",
       "      <th>2</th>\n",
       "      <td>0.758620</td>\n",
       "      <td>0.000000</td>\n",
       "      <td>0.000000</td>\n",
       "      <td>0.00000</td>\n",
       "      <td>0.000000</td>\n",
       "      <td>0.0</td>\n",
       "      <td>0.0</td>\n",
       "      <td>0.0</td>\n",
       "      <td>0.0</td>\n",
       "      <td>0.0</td>\n",
       "      <td>0.0</td>\n",
       "      <td>0.0</td>\n",
       "      <td>0.0</td>\n",
       "    </tr>\n",
       "    <tr>\n",
       "      <th>3</th>\n",
       "      <td>0.758620</td>\n",
       "      <td>0.000000</td>\n",
       "      <td>0.000000</td>\n",
       "      <td>0.00000</td>\n",
       "      <td>0.000000</td>\n",
       "      <td>0.0</td>\n",
       "      <td>0.0</td>\n",
       "      <td>0.0</td>\n",
       "      <td>0.0</td>\n",
       "      <td>0.0</td>\n",
       "      <td>0.0</td>\n",
       "      <td>0.0</td>\n",
       "      <td>0.0</td>\n",
       "    </tr>\n",
       "    <tr>\n",
       "      <th>4</th>\n",
       "      <td>0.758620</td>\n",
       "      <td>0.000000</td>\n",
       "      <td>0.000000</td>\n",
       "      <td>0.00000</td>\n",
       "      <td>0.000000</td>\n",
       "      <td>0.0</td>\n",
       "      <td>0.0</td>\n",
       "      <td>0.0</td>\n",
       "      <td>0.0</td>\n",
       "      <td>0.0</td>\n",
       "      <td>0.0</td>\n",
       "      <td>0.0</td>\n",
       "      <td>0.0</td>\n",
       "    </tr>\n",
       "    <tr>\n",
       "      <th>5</th>\n",
       "      <td>0.501916</td>\n",
       "      <td>0.000000</td>\n",
       "      <td>0.000000</td>\n",
       "      <td>0.00000</td>\n",
       "      <td>0.000000</td>\n",
       "      <td>0.0</td>\n",
       "      <td>0.0</td>\n",
       "      <td>0.0</td>\n",
       "      <td>0.0</td>\n",
       "      <td>0.0</td>\n",
       "      <td>0.0</td>\n",
       "      <td>0.0</td>\n",
       "      <td>0.0</td>\n",
       "    </tr>\n",
       "    <tr>\n",
       "      <th>6</th>\n",
       "      <td>0.475095</td>\n",
       "      <td>0.784527</td>\n",
       "      <td>0.866316</td>\n",
       "      <td>0.41742</td>\n",
       "      <td>0.477182</td>\n",
       "      <td>0.0</td>\n",
       "      <td>0.0</td>\n",
       "      <td>0.0</td>\n",
       "      <td>0.0</td>\n",
       "      <td>0.0</td>\n",
       "      <td>0.0</td>\n",
       "      <td>0.0</td>\n",
       "      <td>0.0</td>\n",
       "    </tr>\n",
       "  </tbody>\n",
       "</table>\n",
       "</div>"
      ],
      "text/plain": [
       "   Battery voltage (V)  Motor1 PWM  Motor2 PWM  Motor3 PWM  Motor4 PWM  \\\n",
       "2             0.758620    0.000000    0.000000     0.00000    0.000000   \n",
       "3             0.758620    0.000000    0.000000     0.00000    0.000000   \n",
       "4             0.758620    0.000000    0.000000     0.00000    0.000000   \n",
       "5             0.501916    0.000000    0.000000     0.00000    0.000000   \n",
       "6             0.475095    0.784527    0.866316     0.41742    0.477182   \n",
       "\n",
       "   Motor1 PWM_lag_1  Motor1 PWM_lag_2  Motor2 PWM_lag_1  Motor2 PWM_lag_2  \\\n",
       "2               0.0               0.0               0.0               0.0   \n",
       "3               0.0               0.0               0.0               0.0   \n",
       "4               0.0               0.0               0.0               0.0   \n",
       "5               0.0               0.0               0.0               0.0   \n",
       "6               0.0               0.0               0.0               0.0   \n",
       "\n",
       "   Motor3 PWM_lag_1  Motor3 PWM_lag_2  Motor4 PWM_lag_1  Motor4 PWM_lag_2  \n",
       "2               0.0               0.0               0.0               0.0  \n",
       "3               0.0               0.0               0.0               0.0  \n",
       "4               0.0               0.0               0.0               0.0  \n",
       "5               0.0               0.0               0.0               0.0  \n",
       "6               0.0               0.0               0.0               0.0  "
      ]
     },
     "execution_count": 53,
     "metadata": {},
     "output_type": "execute_result"
    }
   ],
   "source": [
    "df_cleaned.head()"
   ]
  },
  {
   "cell_type": "markdown",
   "metadata": {
    "id": "EQ6R00UPJYe6"
   },
   "source": [
    "### **Train and Test Splitting**"
   ]
  },
  {
   "cell_type": "markdown",
   "metadata": {
    "id": "2qNGYWuLJkws"
   },
   "source": [
    "- Specify feature and traget columns.\n",
    "- split the data into train and test set.\n",
    "- The ratio of train, test split is 8:2, that is 80% data for training and 20% data for testing."
   ]
  },
  {
   "cell_type": "code",
   "execution_count": 54,
   "metadata": {
    "id": "cAIOsyMHCMTi"
   },
   "outputs": [],
   "source": [
    "feature_columns = df_cleaned.columns[1:]\n",
    "target_column = 'Battery voltage (V)'\n",
    "X = df_cleaned[feature_columns]\n",
    "y = df_cleaned[target_column]\n",
    "from sklearn.model_selection import train_test_split\n",
    "X_train, X_test, y_train, y_test = train_test_split(X, y, test_size=0.2, random_state=42)"
   ]
  },
  {
   "cell_type": "markdown",
   "metadata": {
    "id": "XLYr7hISLFzD"
   },
   "source": [
    "### **Load Model & Train the Data**"
   ]
  },
  {
   "cell_type": "code",
   "execution_count": 55,
   "metadata": {
    "id": "RY8_zUOzE2dz"
   },
   "outputs": [],
   "source": [
    "from sklearn import linear_model\n",
    "from sklearn.linear_model import LinearRegression\n",
    "import time"
   ]
  },
  {
   "cell_type": "code",
   "execution_count": 56,
   "metadata": {
    "colab": {
     "base_uri": "https://localhost:8080/"
    },
    "id": "_OWaeIlozt6t",
    "outputId": "0c17996d-9e02-43df-da8d-a31cd2b8a33e"
   },
   "outputs": [
    {
     "name": "stdout",
     "output_type": "stream",
     "text": [
      "training time complexity : 0.0 s\n",
      "training accuracy : 0.7794267718252902 testing accuracy : 0.7038087534241635\n"
     ]
    }
   ],
   "source": [
    "model = linear_model.LinearRegression()\n",
    "start = time.time()\n",
    "model.fit(X_train,y_train)\n",
    "end = time.time()\n",
    "print(\"training time complexity :\",end-start,\"s\")\n",
    "print(\"training accuracy :\",model.score(X_train,y_train), \"testing accuracy :\",model.score(X_test,y_test))"
   ]
  },
  {
   "cell_type": "markdown",
   "metadata": {
    "id": "D1QXGkFYLQem"
   },
   "source": [
    "- Here we can se that, the model has 77% training accuracy and around 70% test accuracy."
   ]
  },
  {
   "cell_type": "code",
   "execution_count": 57,
   "metadata": {
    "id": "ShJb9x0S5eZU"
   },
   "outputs": [],
   "source": [
    "from sklearn.metrics import mean_squared_error\n",
    "y_pred = model.predict(X_test)\n",
    "mse = mean_squared_error(y_test, y_pred)"
   ]
  },
  {
   "cell_type": "code",
   "execution_count": 58,
   "metadata": {
    "colab": {
     "base_uri": "https://localhost:8080/"
    },
    "id": "W5zF_sxBMMiJ",
    "outputId": "47a75ba1-ee95-4937-ebaa-02fcc374a30d"
   },
   "outputs": [
    {
     "name": "stdout",
     "output_type": "stream",
     "text": [
      "0.009385434910640894\n"
     ]
    }
   ],
   "source": [
    "print(mse)"
   ]
  },
  {
   "cell_type": "markdown",
   "metadata": {},
   "source": [
    "# Compare in more detail neural output  𝑦𝑛 and real target  𝑦 and calculate the Pearson's correlation coefficients of neuron output and target data (do it both for training and testing data) "
   ]
  },
  {
   "cell_type": "markdown",
   "metadata": {
    "id": "4bcc9yg1OGbL"
   },
   "source": [
    "### **Calculating Pearson's Correlation Coefficient**"
   ]
  },
  {
   "cell_type": "code",
   "execution_count": 59,
   "metadata": {
    "colab": {
     "base_uri": "https://localhost:8080/"
    },
    "id": "U87rYfQEMOxJ",
    "outputId": "7339af4e-ac8a-487d-86b0-31dececf3d3e"
   },
   "outputs": [
    {
     "name": "stdout",
     "output_type": "stream",
     "text": [
      "Pearson's Correlation Coefficient (Training Data): 0.8828515004378087\n",
      "Pearson's Correlation Coefficient (Testing Data): 0.8390621506925999\n"
     ]
    }
   ],
   "source": [
    "import numpy as np\n",
    "from scipy.stats import pearsonr\n",
    "correlation_coefficient_train, _ = pearsonr(y_train, model.predict(X_train))\n",
    "correlation_coefficient_test, _ = pearsonr(y_test, y_pred)\n",
    "\n",
    "print(\"Pearson's Correlation Coefficient (Training Data):\", correlation_coefficient_train)\n",
    "print(\"Pearson's Correlation Coefficient (Testing Data):\", correlation_coefficient_test)\n"
   ]
  },
  {
   "cell_type": "markdown",
   "metadata": {},
   "source": [
    "Repeat the above steps for dataset in \"battery_motor_log(time specified).csv\". The reason is that the data might not be sampled with constant sampling, so you have to verify if the sampling is both constant and same for all data. If sampling is not constant, interpolate data so you get data with constant sampling (and repeat tasks from Assignment 1)"
   ]
  },
  {
   "cell_type": "code",
   "execution_count": 31,
   "metadata": {
    "id": "-qEQkryXOCog"
   },
   "outputs": [
    {
     "name": "stdout",
     "output_type": "stream",
     "text": [
      "(423, 7)\n",
      "<class 'pandas.core.frame.DataFrame'>\n",
      "RangeIndex: 423 entries, 0 to 422\n",
      "Data columns (total 7 columns):\n",
      " #   Column               Non-Null Count  Dtype  \n",
      "---  ------               --------------  -----  \n",
      " 0   Date                 267 non-null    object \n",
      " 1   Time                 267 non-null    object \n",
      " 2   Battery voltage (V)  267 non-null    float64\n",
      " 3   Motor1 PWM           267 non-null    float64\n",
      " 4   Motor2 PWM           267 non-null    float64\n",
      " 5   Motor3 PWM           267 non-null    float64\n",
      " 6   Motor4 PWM           267 non-null    float64\n",
      "dtypes: float64(5), object(2)\n",
      "memory usage: 23.3+ KB\n",
      "None\n",
      "       Battery voltage (V)    Motor1 PWM    Motor2 PWM    Motor3 PWM  \\\n",
      "count           267.000000    267.000000    267.000000    267.000000   \n",
      "mean              3.499984  39278.940075  42347.483146  37755.614232   \n",
      "std               0.255093  15846.805211  16991.898930  15420.403301   \n",
      "min               2.644575      0.000000      0.000000      0.000000   \n",
      "25%               3.473314  40200.500000  44708.500000  37949.000000   \n",
      "50%               3.536657  42222.000000  46892.000000  40657.000000   \n",
      "75%               3.605279  43909.500000  48133.500000  42455.000000   \n",
      "max               4.022288  65535.000000  65535.000000  64132.000000   \n",
      "\n",
      "         Motor4 PWM  \n",
      "count    267.000000  \n",
      "mean   38198.400749  \n",
      "std    19093.128435  \n",
      "min        0.000000  \n",
      "25%    41365.500000  \n",
      "50%    46781.000000  \n",
      "75%    48035.000000  \n",
      "max    63196.000000  \n"
     ]
    },
    {
     "data": {
      "image/png": "[encoded data removed]",
      "text/plain": [
       "<Figure size 432x288 with 2 Axes>"
      ]
     },
     "metadata": {
      "needs_background": "light"
     },
     "output_type": "display_data"
    },
    {
     "name": "stdout",
     "output_type": "stream",
     "text": [
      "Coefficients:  [-6.69156366e-06  1.96525463e-06 -6.83922406e-06  4.70536099e-06]\n",
      "Prediction:  [0.89814748]\n",
      "MSE:  0.009333768144742823\n"
     ]
    }
   ],
   "source": [
    "import pandas as pd\n",
    "from sklearn.linear_model import LinearRegression\n",
    "from sklearn.impute import SimpleImputer\n",
    "import numpy as np\n",
    "import matplotlib.pyplot as plt\n",
    "\n",
    "# Read CSV file\n",
    "df = pd.read_csv('battery_motor_log(time specified).csv')\n",
    "\n",
    "# EDA\n",
    "print(df.shape) \n",
    "print(df.info())\n",
    "print(df.describe())\n",
    "\n",
    "# Correlation plot\n",
    "import seaborn as sns\n",
    "corr = df.corr()\n",
    "sns.heatmap(corr, annot=True)\n",
    "plt.show()\n",
    "\n",
    "# Pre-processing\n",
    "df.drop(columns=['Date','Time'], inplace=True)\n",
    "df = df[df['Battery voltage (V)'] < 4] # remove outliers\n",
    "df['Battery voltage (V)'] = (df['Battery voltage (V)'] - df['Battery voltage (V)'].min())/(df['Battery voltage (V)'].max()- df['Battery voltage (V)'].min()) \n",
    "\n",
    "# Drop rows with any NaN \n",
    "df = df.dropna()\n",
    "\n",
    "# Reset index after dropping rows\n",
    "df = df.reset_index(drop=True)\n",
    "\n",
    "# Select features and target\n",
    "X = df[['Motor1 PWM', 'Motor2 PWM', 'Motor3 PWM', 'Motor4 PWM']]  \n",
    "y = df['Battery voltage (V)']\n",
    "\n",
    "# Impute any remaining NaN with column means\n",
    "imputer = SimpleImputer(missing_values=np.nan, strategy='mean')\n",
    "X = imputer.fit_transform(X) \n",
    "\n",
    "# Initialize linear regression model\n",
    "regr = LinearRegression()\n",
    "\n",
    "# Fit model\n",
    "regr.fit(X, y)\n",
    "\n",
    "# Print coefficients\n",
    "print('Coefficients: ', regr.coef_)\n",
    "\n",
    "# Make predictions on new data \n",
    "X_new = [[100,200,300,400]]\n",
    "y_pred = regr.predict(X_new)\n",
    "print('Prediction: ', y_pred)\n",
    "\n",
    "# Evaluate model\n",
    "from sklearn.metrics import mean_squared_error\n",
    "print('MSE: ', mean_squared_error(y, regr.predict(X)))"
   ]
  },
  {
   "cell_type": "code",
   "execution_count": null,
   "metadata": {},
   "outputs": [],
   "source": []
  }
 ],
 "metadata": {
  "colab": {
   "provenance": []
  },
  "kernelspec": {
   "display_name": "Python 3 (ipykernel)",
   "language": "python",
   "name": "python3"
  },
  "language_info": {
   "codemirror_mode": {
    "name": "ipython",
    "version": 3
   },
   "file_extension": ".py",
   "mimetype": "text/x-python",
   "name": "python",
   "nbconvert_exporter": "python",
   "pygments_lexer": "ipython3",
   "version": "3.11.7"
  }
 },
 "nbformat": 4,
 "nbformat_minor": 1
}
